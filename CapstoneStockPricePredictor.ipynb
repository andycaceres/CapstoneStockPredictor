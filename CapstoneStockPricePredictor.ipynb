{
 "cells": [
  {
   "cell_type": "raw",
   "id": "e773275d",
   "metadata": {},
   "source": [
    "---\n",
    "title: Stock Price Predictor\n",
    "description: Application that will predict tomorrows stock price for a given stock\n",
    "params:\n",
    "    stock: \n",
    "        input: text\n",
    "        label: Enter a stock from the S&P 500 (ex. AAPL, NFLX, UBER, MSFT)\n",
    "show-code: False\n",
    "---"
   ]
  },
  {
   "cell_type": "code",
   "execution_count": 1,
   "id": "0cfe952c",
   "metadata": {},
   "outputs": [],
   "source": [
    "import pandas_datareader as web\n",
    "import datetime as dt\n",
    "import pandas as pd\n",
    "from sklearn.model_selection import train_test_split\n",
    "import matplotlib.pyplot as plt\n",
    "import numpy as np\n",
    "from sklearn.preprocessing import MinMaxScaler\n",
    "from tensorflow.python.keras.models import Sequential\n",
    "from tensorflow.python.keras.layers import Dense, Dropout, LSTM"
   ]
  },
  {
   "cell_type": "code",
   "execution_count": 68,
   "id": "c06a664f",
   "metadata": {},
   "outputs": [],
   "source": [
    "# 1. Prepare the data"
   ]
  },
  {
   "cell_type": "code",
   "execution_count": 3,
   "id": "a5271b9a",
   "metadata": {},
   "outputs": [],
   "source": [
    "stock = stock"
   ]
  },
  {
   "cell_type": "code",
   "execution_count": 4,
   "id": "7f77ebb7",
   "metadata": {},
   "outputs": [],
   "source": [
    "train_start_date = dt.datetime(2012, 1, 1) \n",
    "train_end_date = dt.datetime(2021, 1, 1)"
   ]
  },
  {
   "cell_type": "code",
   "execution_count": 5,
   "id": "495e2213",
   "metadata": {},
   "outputs": [],
   "source": [
    "# Obtain stock data from yahoo finance\n",
    "stock_prices = web.DataReader(stock, 'yahoo', train_start_date, train_end_date)"
   ]
  },
  {
   "cell_type": "markdown",
   "id": "c9e6c36a",
   "metadata": {},
   "source": [
    "## Descriptive methods visualization"
   ]
  },
  {
   "cell_type": "code",
   "execution_count": 20,
   "id": "a82ea171",
   "metadata": {},
   "outputs": [],
   "source": [
    "plt.plot(stock_prices[\"Close\"])\n",
    "plt.title(f\"Line graph for {stock} stock prices\")\n",
    "plt.ylabel(\"Price\")\n",
    "plt.xlabel(\"Time\")"
   ]
  },
  {
   "cell_type": "code",
   "execution_count": 2,
   "id": "74411fef",
   "metadata": {},
   "outputs": [],
   "source": [
    "plt.hist(stock_prices[\"Close\"])\n",
    "plt.title(f\"Histogram for {stock} stock prices\")\n",
    "plt.ylabel(\"Number of days\")\n",
    "plt.xlabel(\"Price\")"
   ]
  },
  {
   "cell_type": "code",
   "execution_count": 3,
   "id": "d158f575",
   "metadata": {},
   "outputs": [],
   "source": [
    "plt.bar(stock_prices.index, stock_prices[\"Close\"])\n",
    "plt.title(f\"Bar graph for {stock} stock prices\")\n",
    "plt.ylabel(\"Price\")\n",
    "plt.xlabel(\"Time\")"
   ]
  },
  {
   "cell_type": "code",
   "execution_count": 7,
   "id": "c0bdadec",
   "metadata": {},
   "outputs": [],
   "source": [
    "# Scale the data to fit between 0 and 1\n",
    "scaler = MinMaxScaler(feature_range=(0,1))\n",
    "scaled_close_prices = scaler.fit_transform(stock_prices['Close'].values.reshape(-1, 1))"
   ]
  },
  {
   "cell_type": "code",
   "execution_count": 8,
   "id": "34e198bd",
   "metadata": {},
   "outputs": [],
   "source": [
    "# Create empty arrays for x and y training data\n",
    "x_train = []\n",
    "y_train = []"
   ]
  },
  {
   "cell_type": "code",
   "execution_count": 9,
   "id": "f517f45b",
   "metadata": {},
   "outputs": [],
   "source": [
    "# Number of days model will look in the past when training\n",
    "training_days = 30"
   ]
  },
  {
   "cell_type": "code",
   "execution_count": 10,
   "id": "371e99eb",
   "metadata": {},
   "outputs": [],
   "source": [
    "# Load training data\n",
    "for x in range(training_days, len(scaled_close_prices)):\n",
    "    x_train.append(scaled_close_prices[x-training_days:x, 0])\n",
    "    y_train.append(scaled_close_prices[x, 0]) # Predicted day"
   ]
  },
  {
   "cell_type": "code",
   "execution_count": 11,
   "id": "a29a2fe4",
   "metadata": {},
   "outputs": [],
   "source": [
    "# Convert to numpy array\n",
    "x_train = np.array(x_train)\n",
    "y_train = np.array(y_train)"
   ]
  },
  {
   "cell_type": "code",
   "execution_count": 12,
   "id": "b34cb7a0",
   "metadata": {},
   "outputs": [],
   "source": [
    "# Reshape x_train\n",
    "x_train = np.reshape(x_train, (x_train.shape[0], x_train.shape[1], 1))"
   ]
  },
  {
   "cell_type": "code",
   "execution_count": 26,
   "id": "33193bb6",
   "metadata": {},
   "outputs": [],
   "source": [
    "# 2. Choose and build model"
   ]
  },
  {
   "cell_type": "code",
   "execution_count": 13,
   "id": "b885bfa6",
   "metadata": {},
   "outputs": [],
   "source": [
    "# Sequential model\n",
    "model = Sequential()"
   ]
  },
  {
   "cell_type": "code",
   "execution_count": 14,
   "id": "d0a5fd48",
   "metadata": {},
   "outputs": [],
   "source": [
    "# Build model\n",
    "model.add(LSTM(units=45, return_sequences=True, input_shape=(x_train.shape[1], 1)))\n",
    "model.add(Dropout(0.2))\n",
    "model.add(LSTM(units=50, return_sequences=True))\n",
    "model.add(Dropout(0.2))\n",
    "model.add(LSTM(units=50))\n",
    "model.add(Dropout(0.2))\n",
    "model.add(Dense(units=1))\n",
    "\n",
    "model.compile(optimizer='adam', loss='mean_squared_error')"
   ]
  },
  {
   "cell_type": "markdown",
   "id": "56f504c7",
   "metadata": {},
   "source": [
    "## Training the model with the stock data"
   ]
  },
  {
   "cell_type": "code",
   "execution_count": 21,
   "id": "54556ba6",
   "metadata": {},
   "outputs": [],
   "source": [
    "# 3. Fit the model\n",
    "\n",
    "# Fit model to the training data\n",
    "model.fit(x_train, y_train, epochs=20, batch_size=24)"
   ]
  },
  {
   "cell_type": "code",
   "execution_count": null,
   "id": "740d116b",
   "metadata": {},
   "outputs": [],
   "source": [
    "# 4. Evaluate model test accuracy"
   ]
  },
  {
   "cell_type": "code",
   "execution_count": 16,
   "id": "d5f65026",
   "metadata": {},
   "outputs": [],
   "source": [
    "# Analze accuracy of ML model on training data ~80% of total data\n",
    "\n",
    "# y_train holds trained data\n",
    "\n",
    "# y_inverse holds data inverse transformed\n",
    "y_inverse = y_train\n",
    "y_inverse = pd.DataFrame(y_inverse)\n",
    "y_inverse = scaler.inverse_transform(y_inverse)\n",
    "\n",
    "index_y = 0\n",
    "index_close = 30\n",
    "accuracy = 0\n",
    "accuracy_array = []\n",
    "\n",
    "# Add accuracy values to accuracy_array\n",
    "for x in y_inverse:\n",
    "    if (y_inverse[index_y] == stock_prices[\"Close\"][index_close]):\n",
    "        accuracy_array.append(1)\n",
    "        index_y += 1\n",
    "        index_close += 1\n",
    "    else:\n",
    "        accuracy_array.append(stock_prices[\"Close\"][index_close]/y_inverse[index_y])\n",
    "        index_y += 1\n",
    "        index_close += 1\n",
    "        \n",
    "# Add accuracy values and divide by total\n",
    "accuracy_index = 0\n",
    "\n",
    "for x in accuracy_array:\n",
    "    accuracy += accuracy_array[0]\n",
    "    accuracy_index += 1\n",
    "    \n",
    "accuracy = accuracy / len(accuracy_array)\n"
   ]
  },
  {
   "cell_type": "markdown",
   "id": "8394850c",
   "metadata": {},
   "source": [
    "## Model accuracy for training and testing data sets"
   ]
  },
  {
   "cell_type": "code",
   "execution_count": 22,
   "id": "bcbdc30f",
   "metadata": {},
   "outputs": [],
   "source": [
    "print(f\"Training accuracy = {(accuracy)}\")"
   ]
  },
  {
   "cell_type": "code",
   "execution_count": 17,
   "id": "9479f132",
   "metadata": {},
   "outputs": [],
   "source": [
    "# Run model on test data ~20% of total data\n",
    "\n",
    "# Load test data\n",
    "test_start_date = dt.datetime(2021, 1, 1)\n",
    "test_end_date = dt.datetime.now()\n",
    "test_data = web.DataReader(stock, 'yahoo', test_start_date, test_end_date)\n",
    "actual_prices = test_data['Close'].values\n",
    "total_price_set = pd.concat((stock_prices['Close'], test_data['Close']), axis=0)\n",
    "\n",
    "# Scale the data\n",
    "test_inputs = total_price_set[len(total_price_set) - len(test_data) - training_days:].values\n",
    "test_inputs = test_inputs.reshape(-1, 1)\n",
    "test_inputs = scaler.transform(test_inputs)\n",
    "\n",
    "# Create empty array for x test \n",
    "x_test = []\n",
    "\n",
    "# Training days = 30\n",
    "\n",
    "# Load test data\n",
    "for x in range(training_days, len(test_inputs)):\n",
    "    x_test.append(test_inputs[x-training_days:x, 0])\n",
    "    \n",
    "# Convert to numpy array\n",
    "x_test = np.array(x_test)\n",
    "\n",
    "# Reshape x_test\n",
    "x_test = np.reshape(x_test, (x_test.shape[0], x_test.shape[1], 1))\n",
    "\n",
    "# model\n",
    "predicted_test_prices = model.predict(x_test)\n",
    "\n",
    "# Reverse the scaler\n",
    "predicted_test_prices = scaler.inverse_transform(predicted_test_prices)"
   ]
  },
  {
   "cell_type": "code",
   "execution_count": 23,
   "id": "f2f0442a",
   "metadata": {},
   "outputs": [],
   "source": [
    "# Analyze model accuracy on test data\n",
    "\n",
    "index_test = 0\n",
    "accuracy_test = 0\n",
    "accuracy_test_array = []\n",
    "\n",
    "# Add accuracy values to accuracy array\n",
    "for x in predicted_test_prices:\n",
    "    if (predicted_test_prices[index_test] == actual_prices[index_test]):\n",
    "        accuracy_test_array.append(1)\n",
    "        index_test += 1\n",
    "    else:\n",
    "        if (predicted_test_prices[index_test] > actual_prices[index_test]):\n",
    "            accuracy_test_array.append(actual_prices[index_test]/predicted_test_prices[index_test])\n",
    "        if (predicted_test_prices[index_test] < actual_prices[index_test]):\n",
    "            accuracy_test_array.append(predicted_test_prices[index_test]/actual_prices[index_test])\n",
    "        index_test += 1\n",
    "        \n",
    "# Add accuracy values and divide by total\n",
    "accuracy_test_index = 0\n",
    "\n",
    "for x in accuracy_test_array:\n",
    "    accuracy_test += accuracy_test_array[accuracy_test_index]\n",
    "    accuracy_test_index += 1\n",
    "    \n",
    "accuracy_test = accuracy_test / 453 # Length of test data\n",
    "print(f\"Testing accuracy = {round(float(accuracy_test[0]), 2)}\")"
   ]
  },
  {
   "cell_type": "code",
   "execution_count": 33,
   "id": "b4605c4a",
   "metadata": {},
   "outputs": [],
   "source": [
    "# Graph non-descriptive model"
   ]
  },
  {
   "cell_type": "markdown",
   "id": "0c1ae533",
   "metadata": {},
   "source": [
    "## Non-descriptive graph"
   ]
  },
  {
   "cell_type": "code",
   "execution_count": 7,
   "id": "96b10a42",
   "metadata": {},
   "outputs": [],
   "source": [
    "plt.plot(predicted_test_prices, color=\"blue\", label=\"Predicted Prices\")\n",
    "plt.plot(actual_prices, color=\"orange\", label=\"Actual Prices\")\n",
    "plt.legend()\n",
    "plt.title(f\"Non-descriptive graph for predicted {stock} stock prices\")\n",
    "plt.xlabel(\"Time\")\n",
    "plt.ylabel(\"Price\")"
   ]
  },
  {
   "cell_type": "code",
   "execution_count": 45,
   "id": "6dbd0dd7",
   "metadata": {},
   "outputs": [],
   "source": [
    "# 6. Experiment model by predicting tomorrows stock price"
   ]
  },
  {
   "cell_type": "code",
   "execution_count": 5,
   "id": "b67bda46",
   "metadata": {},
   "outputs": [],
   "source": [
    "# Run model to predict tomorows stock price\n",
    "\n",
    "# Get current prices and reshape\n",
    "current_prices = [test_inputs[len(test_inputs) + 1 - training_days:len(test_inputs+1), 0]]\n",
    "current_prices = np.array(current_prices)\n",
    "current_prices = np.reshape(current_prices, (current_prices.shape[0], current_prices.shape[1], 1))\n",
    "\n",
    "# Predict tomorrows stock price by fitting current prices to model\n",
    "prediction = model.predict(current_prices)\n",
    "prediction = scaler.inverse_transform(prediction)\n",
    "tomorrows_price = float(prediction[0][0])"
   ]
  },
  {
   "cell_type": "markdown",
   "id": "58c99291",
   "metadata": {},
   "source": [
    "## Tomorrows Predicted Stock Price"
   ]
  },
  {
   "cell_type": "code",
   "execution_count": 66,
   "id": "28c740c8",
   "metadata": {},
   "outputs": [],
   "source": [
    "print(f\"Tomorrows stock price for {stock} is: ${round(tomorrows_price, 2)}\")"
   ]
  },
  {
   "cell_type": "code",
   "execution_count": null,
   "id": "f34769f1",
   "metadata": {},
   "outputs": [],
   "source": []
  }
 ],
 "metadata": {
  "kernelspec": {
   "display_name": "Python 3 (ipykernel)",
   "language": "python",
   "name": "python3"
  },
  "language_info": {
   "codemirror_mode": {
    "name": "ipython",
    "version": 3
   },
   "file_extension": ".py",
   "mimetype": "text/x-python",
   "name": "python",
   "nbconvert_exporter": "python",
   "pygments_lexer": "ipython3",
   "version": "3.10.6"
  }
 },
 "nbformat": 4,
 "nbformat_minor": 5
}
